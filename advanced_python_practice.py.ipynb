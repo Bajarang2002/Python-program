{
 "cells": [
  {
   "cell_type": "code",
   "execution_count": 5,
   "id": "953a2de7",
   "metadata": {},
   "outputs": [
    {
     "name": "stdout",
     "output_type": "stream",
     "text": [
      "375.0\n"
     ]
    }
   ],
   "source": [
    "def compute_si(p,r,t):\n",
    "    si =(p*r*t)/100\n",
    "    print(si)\n",
    "compute_si(5000,2.5,3)"
   ]
  },
  {
   "cell_type": "code",
   "execution_count": 1,
   "id": "10fdf2df",
   "metadata": {},
   "outputs": [
    {
     "name": "stdout",
     "output_type": "stream",
     "text": [
      "['a', 'b', 'c', 'd', 'e']\n",
      "[34, 15, 78, 50, 67]\n",
      "Maximum value 78 Minimum value 15\n",
      "Difference between largest and smallest value: 63\n",
      "key with max value: c\n",
      "key with min value: b\n"
     ]
    }
   ],
   "source": [
    "d1 ={'a':34,'b':15,'c':78,'d':50,'e':67}\n",
    "k = list(d1.keys())\n",
    "v = list(d1.values())\n",
    "print(k)\n",
    "print(v)\n",
    "vmax,vmin= max(v),min(v)\n",
    "ivmax,ivmin =v.index(vmax),v.index(vmin)\n",
    "print('Maximum value',vmax,'Minimum value',vmin)\n",
    "print('Difference between largest and smallest value:',vmax-vmin)\n",
    "print('key with max value:',k[ivmax])\n",
    "print('key with min value:',k[ivmin])\n"
   ]
  },
  {
   "cell_type": "code",
   "execution_count": 28,
   "id": "61f9ea4c",
   "metadata": {},
   "outputs": [
    {
     "name": "stdout",
     "output_type": "stream",
     "text": [
      "hello world python function\n",
      "['hello', 'world', 'python', 'function']\n",
      "<class 'list'>\n"
     ]
    }
   ],
   "source": [
    "r =input().split()\n",
    "print(r)\n",
    "print(type(r))"
   ]
  },
  {
   "cell_type": "code",
   "execution_count": 4,
   "id": "ac4e1734",
   "metadata": {},
   "outputs": [
    {
     "name": "stdout",
     "output_type": "stream",
     "text": [
      "99 78 56 41 78\n",
      "[41, 56, 78, 78, 99]\n",
      "second highest number: 78\n"
     ]
    }
   ],
   "source": [
    "marks = list(map(int,input().split()))\n",
    "marks.sort()\n",
    "print(marks)\n",
    "print('second highest number:',marks[-2])"
   ]
  },
  {
   "cell_type": "code",
   "execution_count": 41,
   "id": "712578c0",
   "metadata": {},
   "outputs": [
    {
     "name": "stdout",
     "output_type": "stream",
     "text": [
      "[3]\n",
      "[3, 78]\n"
     ]
    }
   ],
   "source": [
    "w1 =[1,2,3,4,67,78]\n",
    "w2 = [45,78,3,11,109]\n",
    "def common_elements(a,b):\n",
    "    common =[]\n",
    "    for i in a:\n",
    "        if i in b:\n",
    "            common.append(i)\n",
    "            print(common)\n",
    "            \n",
    "common_elements(w1,w2)\n",
    "            \n",
    "    "
   ]
  },
  {
   "cell_type": "code",
   "execution_count": 43,
   "id": "d59df482",
   "metadata": {},
   "outputs": [
    {
     "name": "stdout",
     "output_type": "stream",
     "text": [
      "hello python function game bye laptop movie\n",
      "{'hello': 5, 'python': 6, 'function': 8, 'game': 4, 'bye': 3, 'laptop': 6, 'movie': 5}\n",
      "Maximum length 8 Corresonding length: function\n"
     ]
    }
   ],
   "source": [
    "\n",
    "words = input().split()\n",
    "dict_words ={i :len(i) for i in words}\n",
    "print(dict_words)\n",
    "k =list(dict_words.keys())\n",
    "v =list(dict_words.values())\n",
    "vmax =max(v)\n",
    "ivmax =v.index(vmax)\n",
    "print('Maximum length',vmax,'Corresonding length:',words[ivmax])\n",
    "\n"
   ]
  },
  {
   "cell_type": "code",
   "execution_count": 5,
   "id": "9c5718ca",
   "metadata": {},
   "outputs": [
    {
     "name": "stdout",
     "output_type": "stream",
     "text": [
      "89 56 74 88 86 97 \n",
      "[89, 86, 74]\n",
      "[56, 88, 97]\n"
     ]
    }
   ],
   "source": [
    "marks = list(map(int,input().split()))\n",
    "ep,op =[],[]\n",
    "for i in range(len(marks)):\n",
    "    if i%2 ==0:\n",
    "        ep.append(marks[i])\n",
    "    else:\n",
    "        op.append(marks[i])\n",
    "ep.sort(reverse = True)\n",
    "op.sort()\n",
    "print(ep)\n",
    "print(op)\n"
   ]
  },
  {
   "cell_type": "code",
   "execution_count": null,
   "id": "c7a2e893",
   "metadata": {},
   "outputs": [],
   "source": []
  }
 ],
 "metadata": {
  "kernelspec": {
   "display_name": "Python 3 (ipykernel)",
   "language": "python",
   "name": "python3"
  },
  "language_info": {
   "codemirror_mode": {
    "name": "ipython",
    "version": 3
   },
   "file_extension": ".py",
   "mimetype": "text/x-python",
   "name": "python",
   "nbconvert_exporter": "python",
   "pygments_lexer": "ipython3",
   "version": "3.11.3"
  }
 },
 "nbformat": 4,
 "nbformat_minor": 5
}
