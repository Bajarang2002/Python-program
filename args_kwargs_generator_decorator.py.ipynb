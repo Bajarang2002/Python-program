{
 "cells": [
  {
   "cell_type": "code",
   "execution_count": 3,
   "id": "9a6b586b",
   "metadata": {},
   "outputs": [
    {
     "name": "stdout",
     "output_type": "stream",
     "text": [
      "12\n"
     ]
    }
   ],
   "source": [
    "# Arguments\n",
    "def sum2num(a,b):\n",
    "    print(a+b)\n",
    "sum2num(5,7)\n"
   ]
  },
  {
   "cell_type": "code",
   "execution_count": 10,
   "id": "45e7a165",
   "metadata": {},
   "outputs": [
    {
     "name": "stdout",
     "output_type": "stream",
     "text": [
      "12\n",
      "12\n",
      "86\n"
     ]
    }
   ],
   "source": [
    "def fun1(*args):\n",
    "    s =0\n",
    "    for i in args:\n",
    "        s+=i\n",
    "    print(s)\n",
    "fun1(5,7)\n",
    "fun1(2,5,4,1)\n",
    "fun1(2,5,4,1,8,9,10,47)\n",
    "\n"
   ]
  },
  {
   "cell_type": "code",
   "execution_count": 13,
   "id": "44fd2582",
   "metadata": {},
   "outputs": [
    {
     "name": "stdout",
     "output_type": "stream",
     "text": [
      "4 5 6 4 8\n",
      "[4, 5, 6, 4, 8]\n",
      "27\n"
     ]
    }
   ],
   "source": [
    "num = list(map(int,input().split()))\n",
    "print(num)\n",
    "fun1(*num)"
   ]
  },
  {
   "cell_type": "code",
   "execution_count": 14,
   "id": "114cde40",
   "metadata": {},
   "outputs": [
    {
     "name": "stdout",
     "output_type": "stream",
     "text": [
      "Ram is score as total of 520 and avg of 74.28571428571429\n"
     ]
    }
   ],
   "source": [
    "def report(name1,*score1):\n",
    "    sum1 = sum([i for i in score1])\n",
    "    avg = sum1/len(score1)\n",
    "    print(f'{ name1} is score as total of {sum1} and avg of {avg}')\n",
    "report('Ram',88,90,76,54,78,65,69)"
   ]
  },
  {
   "cell_type": "code",
   "execution_count": 15,
   "id": "3b6cabad",
   "metadata": {},
   "outputs": [
    {
     "name": "stdout",
     "output_type": "stream",
     "text": [
      "Ram is score as total of 520 and avg of 74.28571428571429\n",
      "city is Pune\n"
     ]
    }
   ],
   "source": [
    "def report(name1,city,*score1):\n",
    "    sum1 = sum([i for i in score1])\n",
    "    avg = sum1/len(score1)\n",
    "    print(f'{ name1} is score as total of {sum1} and avg of {avg}')\n",
    "    print(f'city is {city}')\n",
    "report('Ram','Pune',88,90,76,54,78,65,69)"
   ]
  },
  {
   "cell_type": "code",
   "execution_count": 20,
   "id": "e6ce1c68",
   "metadata": {},
   "outputs": [
    {
     "name": "stdout",
     "output_type": "stream",
     "text": [
      "{'name': 'Raju', 'age': 21, 'city': 'Pune'}\n",
      "{'name': 'Raju', 'age': 21, 'city': 'Pune', 'dept': 'IT', 'salary': 70000}\n"
     ]
    }
   ],
   "source": [
    "# kwargs\n",
    "\n",
    "def fun3(**kwargs):\n",
    "    print(kwargs)\n",
    "fun3(name='Raju',age=21,city='Pune')\n",
    "fun3(name='Raju',age=21,city='Pune',dept='IT',salary =70000)"
   ]
  },
  {
   "cell_type": "code",
   "execution_count": 21,
   "id": "380eb385",
   "metadata": {},
   "outputs": [
    {
     "name": "stdout",
     "output_type": "stream",
     "text": [
      "(59, 14, 25, 45, 88, 66)\n",
      "{'name': 'Raju', 'age': 21, 'city': 'Pune'}\n"
     ]
    }
   ],
   "source": [
    "def fun4(*args,**kwargs):\n",
    "    print(args)\n",
    "    print(kwargs)\n",
    "fun4(59,14,25,45,88,66,name='Raju',age=21,city='Pune')"
   ]
  },
  {
   "cell_type": "code",
   "execution_count": 27,
   "id": "fb92edf4",
   "metadata": {},
   "outputs": [
    {
     "name": "stdout",
     "output_type": "stream",
     "text": [
      "12\n"
     ]
    }
   ],
   "source": [
    "# Generators:\n",
    "# yield keyword return multiple values\n",
    "\n",
    "def demo1():\n",
    "    return 7+5\n",
    "    return \"hello\"\n",
    "\n",
    "a1 = demo1()\n",
    "print(a1)\n",
    " \n",
    "\n"
   ]
  },
  {
   "cell_type": "code",
   "execution_count": 30,
   "id": "4bc17c85",
   "metadata": {},
   "outputs": [
    {
     "name": "stdout",
     "output_type": "stream",
     "text": [
      "12\n",
      "hello\n"
     ]
    }
   ],
   "source": [
    "def demo2():\n",
    "    yield 7+5\n",
    "    yield \"hello\"\n",
    "\n",
    "a1 = demo2()\n",
    "for i in a1:\n",
    "    print(i)\n",
    " "
   ]
  },
  {
   "cell_type": "code",
   "execution_count": 31,
   "id": "6487aec1",
   "metadata": {},
   "outputs": [
    {
     "name": "stdout",
     "output_type": "stream",
     "text": [
      "2\n",
      "3\n",
      "4\n"
     ]
    }
   ],
   "source": [
    "def demo3():\n",
    "    for i in range(2,5):\n",
    "        yield i\n",
    "a1 = demo3()\n",
    "for i in a1:\n",
    "    print(i)"
   ]
  },
  {
   "cell_type": "code",
   "execution_count": 35,
   "id": "cf0a3007",
   "metadata": {},
   "outputs": [
    {
     "name": "stdout",
     "output_type": "stream",
     "text": [
      "Python\n",
      "Data science\n"
     ]
    }
   ],
   "source": [
    "# Decorators\n",
    "\n",
    "def demof1():\n",
    "    def inner():\n",
    "        return 'Python'\n",
    "    a =inner()\n",
    "    print(a)\n",
    "    print(\"Data science\")\n",
    "demof1()\n"
   ]
  },
  {
   "cell_type": "code",
   "execution_count": 36,
   "id": "2a72764e",
   "metadata": {},
   "outputs": [
    {
     "name": "stdout",
     "output_type": "stream",
     "text": [
      "Python\n",
      "None\n",
      "Data science\n"
     ]
    }
   ],
   "source": [
    "def demof1():\n",
    "    def inner():\n",
    "        print( 'Python')\n",
    "    a =inner()\n",
    "    print(a)\n",
    "    print(\"Data science\")\n",
    "demof1()\n"
   ]
  },
  {
   "cell_type": "code",
   "execution_count": 38,
   "id": "e7a038f9",
   "metadata": {},
   "outputs": [
    {
     "data": {
      "text/plain": [
       "'Python'"
      ]
     },
     "execution_count": 38,
     "metadata": {},
     "output_type": "execute_result"
    }
   ],
   "source": [
    "def demof1():\n",
    "    def inner():\n",
    "        return 'Python'\n",
    "    return inner()\n",
    "    print(\"Data science\")\n",
    "demof1()\n"
   ]
  },
  {
   "cell_type": "code",
   "execution_count": 41,
   "id": "76897396",
   "metadata": {},
   "outputs": [
    {
     "name": "stdout",
     "output_type": "stream",
     "text": [
      "Understanding decorators\n",
      "None\n"
     ]
    }
   ],
   "source": [
    "def outer(x):\n",
    "    def inner():\n",
    "        return x()\n",
    "    return inner()\n",
    "\n",
    "def sample():\n",
    "    print(\"Understanding decorators\")\n",
    "\n",
    "a1 =outer(sample)\n",
    "print(a1)\n"
   ]
  },
  {
   "cell_type": "code",
   "execution_count": 43,
   "id": "bbe04987",
   "metadata": {},
   "outputs": [
    {
     "name": "stdout",
     "output_type": "stream",
     "text": [
      " Decorating x function\n",
      "Understanding decorators\n",
      "None\n",
      "Understanding decorators\n"
     ]
    }
   ],
   "source": [
    "def outer(x):\n",
    "    def inner():\n",
    "        print(\" Decorating x function\")\n",
    "        return x()\n",
    "    return inner()\n",
    "\n",
    "def sample():\n",
    "    print(\"Understanding decorators\")\n",
    "\n",
    "a1 =outer(sample)\n",
    "print(a1)\n",
    "sample()\n"
   ]
  },
  {
   "cell_type": "code",
   "execution_count": 46,
   "id": "0de11bfc",
   "metadata": {},
   "outputs": [
    {
     "name": "stdout",
     "output_type": "stream",
     "text": [
      "[2, 6, 12, 20, 30, 42, 56, 72, 90]\n"
     ]
    }
   ],
   "source": [
    "# cumulative sum of number from the list\n",
    "w =[2,4,6,8,10,12,14,16,18]\n",
    "res =[sum(w[:i+1]) for i in range(len(w))]\n",
    "print(res)\n"
   ]
  },
  {
   "cell_type": "code",
   "execution_count": null,
   "id": "751ad5d1",
   "metadata": {},
   "outputs": [],
   "source": []
  }
 ],
 "metadata": {
  "kernelspec": {
   "display_name": "Python 3 (ipykernel)",
   "language": "python",
   "name": "python3"
  },
  "language_info": {
   "codemirror_mode": {
    "name": "ipython",
    "version": 3
   },
   "file_extension": ".py",
   "mimetype": "text/x-python",
   "name": "python",
   "nbconvert_exporter": "python",
   "pygments_lexer": "ipython3",
   "version": "3.11.3"
  }
 },
 "nbformat": 4,
 "nbformat_minor": 5
}
