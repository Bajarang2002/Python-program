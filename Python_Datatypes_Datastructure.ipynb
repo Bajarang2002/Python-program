{
 "cells": [
  {
   "cell_type": "code",
   "execution_count": 2,
   "id": "f435566f",
   "metadata": {},
   "outputs": [
    {
     "name": "stdout",
     "output_type": "stream",
     "text": [
      "4\n",
      "<class 'int'>\n"
     ]
    }
   ],
   "source": [
    "# data types -\n",
    "\n",
    "a1 = 4\n",
    "print(a1)\n",
    "print(type(a1))\n"
   ]
  },
  {
   "cell_type": "code",
   "execution_count": 4,
   "id": "e3857227",
   "metadata": {},
   "outputs": [
    {
     "name": "stdout",
     "output_type": "stream",
     "text": [
      "5.5\n",
      "<class 'float'>\n"
     ]
    }
   ],
   "source": [
    "a2 = 5.5\n",
    "print(a2)\n",
    "print(type(a2))"
   ]
  },
  {
   "cell_type": "code",
   "execution_count": 5,
   "id": "a3543362",
   "metadata": {},
   "outputs": [
    {
     "name": "stdout",
     "output_type": "stream",
     "text": [
      "Python\n",
      "<class 'str'>\n"
     ]
    }
   ],
   "source": [
    "a3 = 'Python'\n",
    "print(a3)\n",
    "print(type(a3))"
   ]
  },
  {
   "cell_type": "code",
   "execution_count": 6,
   "id": "6dc6876e",
   "metadata": {},
   "outputs": [
    {
     "name": "stdout",
     "output_type": "stream",
     "text": [
      "True\n",
      "<class 'bool'>\n"
     ]
    }
   ],
   "source": [
    "a4 = True\n",
    "print(a4)\n",
    "print(type(a4))"
   ]
  },
  {
   "cell_type": "code",
   "execution_count": 7,
   "id": "50d4f3f1",
   "metadata": {},
   "outputs": [
    {
     "name": "stdout",
     "output_type": "stream",
     "text": [
      "(2+3j)\n",
      "<class 'complex'>\n"
     ]
    }
   ],
   "source": [
    "a5 = 2+3j\n",
    "print(a5)\n",
    "print(type(a5))"
   ]
  },
  {
   "cell_type": "code",
   "execution_count": 8,
   "id": "75992aa9",
   "metadata": {},
   "outputs": [
    {
     "name": "stdout",
     "output_type": "stream",
     "text": [
      "None\n",
      "<class 'NoneType'>\n"
     ]
    }
   ],
   "source": [
    "a6 = None\n",
    "print(a6)\n",
    "print(type(a6))"
   ]
  },
  {
   "cell_type": "code",
   "execution_count": null,
   "id": "1be4d229",
   "metadata": {},
   "outputs": [],
   "source": [
    "# Operators"
   ]
  },
  {
   "cell_type": "code",
   "execution_count": 9,
   "id": "f521d53f",
   "metadata": {},
   "outputs": [
    {
     "name": "stdout",
     "output_type": "stream",
     "text": [
      "12\n",
      "2\n",
      "35\n",
      "1.4\n",
      "16807\n",
      "2\n"
     ]
    }
   ],
   "source": [
    "# Arithmatic operator\n",
    "\n",
    "x,y = 7,5\n",
    "print(x+y)\n",
    "print(x-y)\n",
    "print(x*y)\n",
    "print(x/y)\n",
    "print(x**y)\n",
    "print(x%y)"
   ]
  },
  {
   "cell_type": "code",
   "execution_count": 10,
   "id": "1a931863",
   "metadata": {},
   "outputs": [
    {
     "name": "stdout",
     "output_type": "stream",
     "text": [
      "4 3\n",
      "7 3\n",
      "4 3\n",
      "12 3\n",
      "4.0 3\n"
     ]
    }
   ],
   "source": [
    "# Assignment operator\n",
    "\n",
    "x,y = 4,3\n",
    "print(x,y)\n",
    "x+=y\n",
    "print(x,y)\n",
    "x-=y\n",
    "print(x,y)\n",
    "x*=y\n",
    "print(x,y)\n",
    "x/=y\n",
    "print(x,y)"
   ]
  },
  {
   "cell_type": "code",
   "execution_count": 11,
   "id": "8d74f4d6",
   "metadata": {},
   "outputs": [
    {
     "name": "stdout",
     "output_type": "stream",
     "text": [
      "True\n",
      "False\n",
      "True\n",
      "False\n",
      "False\n",
      "True\n"
     ]
    }
   ],
   "source": [
    "# Relational (comparison) operator\n",
    "\n",
    "x,y = 10,15\n",
    "print(x<y)\n",
    "print(x>y)\n",
    "print(x<=y)\n",
    "print(x>=y)\n",
    "print(x==y)\n",
    "print(x!=y)"
   ]
  },
  {
   "cell_type": "code",
   "execution_count": 12,
   "id": "8f1f2032",
   "metadata": {},
   "outputs": [
    {
     "name": "stdout",
     "output_type": "stream",
     "text": [
      "False\n",
      "True\n",
      "True\n",
      "True\n"
     ]
    }
   ],
   "source": [
    "# Logical operator\n",
    "# and,or,not\n",
    "\n",
    "x,y,z = 10,15,20\n",
    "\n",
    "print(x>y and x>z)\n",
    "print(x<y and y<z)\n",
    "print(x<y or x>y)\n",
    "print(x<y or y<z)\n",
    "\n",
    "\n",
    "\n",
    "\n"
   ]
  },
  {
   "cell_type": "code",
   "execution_count": 13,
   "id": "a34ef833",
   "metadata": {},
   "outputs": [
    {
     "name": "stdout",
     "output_type": "stream",
     "text": [
      "True\n",
      "False\n",
      "True\n"
     ]
    }
   ],
   "source": [
    "# Membership operator\n",
    "# in,not in\n",
    "\n",
    "x = \" Learning python and data science.\"\n",
    "print('python' in x)\n",
    "print('sql' in x)\n",
    "print('sql' not in x)\n"
   ]
  },
  {
   "cell_type": "code",
   "execution_count": 14,
   "id": "3259ec03",
   "metadata": {},
   "outputs": [
    {
     "name": "stdout",
     "output_type": "stream",
     "text": [
      "[] <class 'list'>\n",
      "[] <class 'list'>\n"
     ]
    }
   ],
   "source": [
    "# Data structure\n",
    "# List and Tuple\n",
    "\n",
    "w1,w2 = [],list()\n",
    "print(w1,type(w1))\n",
    "print(w2,type(w2))\n"
   ]
  },
  {
   "cell_type": "code",
   "execution_count": 18,
   "id": "c1f7dee9",
   "metadata": {},
   "outputs": [
    {
     "name": "stdout",
     "output_type": "stream",
     "text": [
      "[10, 20, 30, 40, 50, 60, 70]\n",
      "<class 'list'>\n",
      "7\n"
     ]
    }
   ],
   "source": [
    "w1 = [10,20,30,40,50,60,70]\n",
    "print(w1)\n",
    "print(type(w1))\n",
    "print(len(w1))"
   ]
  },
  {
   "cell_type": "code",
   "execution_count": 17,
   "id": "903cf692",
   "metadata": {},
   "outputs": [
    {
     "name": "stdout",
     "output_type": "stream",
     "text": [
      "() <class 'tuple'>\n",
      "() <class 'tuple'>\n"
     ]
    }
   ],
   "source": [
    "w1,w2 = (),tuple()\n",
    "print(w1,type(w1))\n",
    "print(w2,type(w2))\n"
   ]
  },
  {
   "cell_type": "code",
   "execution_count": 24,
   "id": "123b5cc5",
   "metadata": {},
   "outputs": [
    {
     "name": "stdout",
     "output_type": "stream",
     "text": [
      "(10, 20, 30, 40, 50, 60, 70)\n",
      "<class 'tuple'>\n",
      "7\n"
     ]
    }
   ],
   "source": [
    "w1 = (10,20,30,40,50,60,70)\n",
    "print(w1)\n",
    "print(type(w1))\n",
    "print(len(w1))"
   ]
  },
  {
   "cell_type": "code",
   "execution_count": 20,
   "id": "b7a95403",
   "metadata": {},
   "outputs": [
    {
     "name": "stdout",
     "output_type": "stream",
     "text": [
      "[10, 20, 30, 40, 50, 60, 70, 80]\n",
      "20 30 70\n",
      "80 70 60\n"
     ]
    }
   ],
   "source": [
    "# Indexing\n",
    "\n",
    "x =[10,20,30,40,50,60,70,80]\n",
    "print(x)\n",
    "print(x[1],x[2],x[6])\n",
    "print(x[-1],x[-2],x[-3])\n"
   ]
  },
  {
   "cell_type": "code",
   "execution_count": 21,
   "id": "5b6280f4",
   "metadata": {},
   "outputs": [
    {
     "name": "stdout",
     "output_type": "stream",
     "text": [
      "[10, 20, 30, 40, 50, 60, 70, 80]\n",
      "[30, 40, 50, 60, 70, 80]\n",
      "[40, 50, 60]\n",
      "[20, 40]\n",
      "[70, 60, 50, 40, 30]\n"
     ]
    }
   ],
   "source": [
    "# Slicing\n",
    "\n",
    "x =[10,20,30,40,50,60,70,80]\n",
    "print(x)\n",
    "print(x[2:])\n",
    "print(x[3:6])\n",
    "print(x[1:5:2])\n",
    "print(x[6:1:-1])"
   ]
  },
  {
   "cell_type": "code",
   "execution_count": 22,
   "id": "2341abbd",
   "metadata": {},
   "outputs": [
    {
     "name": "stdout",
     "output_type": "stream",
     "text": [
      "[10, 20, 30, 40, 50, 60, 70, 80]\n",
      "[10, 20, 'welcome', 40, 50, 60, 70, 80]\n"
     ]
    }
   ],
   "source": [
    "# List is mutable\n",
    "x =[10,20,30,40,50,60,70,80]\n",
    "print(x)\n",
    "x[2] ='welcome'\n",
    "print(x)"
   ]
  },
  {
   "cell_type": "code",
   "execution_count": 23,
   "id": "88208284",
   "metadata": {},
   "outputs": [
    {
     "name": "stdout",
     "output_type": "stream",
     "text": [
      "(10, 20, 30, 40, 50, 60, 70, 80)\n"
     ]
    },
    {
     "ename": "TypeError",
     "evalue": "'tuple' object does not support item assignment",
     "output_type": "error",
     "traceback": [
      "\u001b[1;31m---------------------------------------------------------------------------\u001b[0m",
      "\u001b[1;31mTypeError\u001b[0m                                 Traceback (most recent call last)",
      "Cell \u001b[1;32mIn[23], line 3\u001b[0m\n\u001b[0;32m      1\u001b[0m x \u001b[38;5;241m=\u001b[39m(\u001b[38;5;241m10\u001b[39m,\u001b[38;5;241m20\u001b[39m,\u001b[38;5;241m30\u001b[39m,\u001b[38;5;241m40\u001b[39m,\u001b[38;5;241m50\u001b[39m,\u001b[38;5;241m60\u001b[39m,\u001b[38;5;241m70\u001b[39m,\u001b[38;5;241m80\u001b[39m)\n\u001b[0;32m      2\u001b[0m \u001b[38;5;28mprint\u001b[39m(x)\n\u001b[1;32m----> 3\u001b[0m \u001b[43mx\u001b[49m\u001b[43m[\u001b[49m\u001b[38;5;241;43m2\u001b[39;49m\u001b[43m]\u001b[49m \u001b[38;5;241m=\u001b[39m\u001b[38;5;124m'\u001b[39m\u001b[38;5;124mwelcome\u001b[39m\u001b[38;5;124m'\u001b[39m\n\u001b[0;32m      4\u001b[0m \u001b[38;5;28mprint\u001b[39m(x)\n",
      "\u001b[1;31mTypeError\u001b[0m: 'tuple' object does not support item assignment"
     ]
    }
   ],
   "source": [
    "# Tuple is immutable\n",
    "x =(10,20,30,40,50,60,70,80)\n",
    "print(x)\n",
    "x[2] ='welcome'\n",
    "print(x)"
   ]
  },
  {
   "cell_type": "code",
   "execution_count": 25,
   "id": "168859f7",
   "metadata": {},
   "outputs": [
    {
     "name": "stdout",
     "output_type": "stream",
     "text": [
      "{} <class 'dict'>\n",
      "{} <class 'dict'>\n"
     ]
    }
   ],
   "source": [
    "# Dictionary\n",
    "# empty dict\n",
    "d1,d2 = {},dict()\n",
    "print(d1,type(d1))\n",
    "print(d2,type(d2))"
   ]
  },
  {
   "cell_type": "code",
   "execution_count": 26,
   "id": "1319d6dd",
   "metadata": {},
   "outputs": [
    {
     "name": "stdout",
     "output_type": "stream",
     "text": [
      "{'a1': 10, 'a2': 20, 'a3': 30, 'a4': 40}\n",
      "<class 'dict'>\n",
      "4\n"
     ]
    }
   ],
   "source": [
    "d = {'a1':10,'a2':20,'a3':30,'a4':40}\n",
    "print(d)\n",
    "print(type(d))\n",
    "print(len(d))"
   ]
  },
  {
   "cell_type": "code",
   "execution_count": 27,
   "id": "e7fd7907",
   "metadata": {},
   "outputs": [
    {
     "name": "stdout",
     "output_type": "stream",
     "text": [
      "{'a1': 10, 'a2': 20, 'a3': 30, 'a4': 10}\n"
     ]
    }
   ],
   "source": [
    "# keys is unique,values are duplicated\n",
    "d = {'a1':10,'a2':20,'a3':30,'a4':10}\n",
    "print(d)\n"
   ]
  },
  {
   "cell_type": "code",
   "execution_count": 28,
   "id": "a86bceb8",
   "metadata": {},
   "outputs": [
    {
     "name": "stdout",
     "output_type": "stream",
     "text": [
      "{'a1': 10, 'a2': 20, 'a3': 30, 'a4': 40}\n",
      "10\n",
      "20\n",
      "30\n"
     ]
    }
   ],
   "source": [
    "# fetch the values\n",
    "\n",
    "d = {'a1':10,'a2':20,'a3':30,'a4':40}\n",
    "print(d)\n",
    "print(d['a1'])\n",
    "print(d['a2'])\n",
    "print(d['a3'])\n"
   ]
  },
  {
   "cell_type": "code",
   "execution_count": 29,
   "id": "84768916",
   "metadata": {},
   "outputs": [
    {
     "name": "stdout",
     "output_type": "stream",
     "text": [
      "{'a1': 10, 'a2': 20, 'a3': 30, 'a4': 40}\n",
      "{'a1': 10, 'a2': 20, 'a3': 30, 'a4': 40, 'name': 'Ram'}\n"
     ]
    }
   ],
   "source": [
    "# add new value to the dict\n",
    "\n",
    "d = {'a1':10,'a2':20,'a3':30,'a4':40}\n",
    "print(d)\n",
    "d['name']= 'Ram'\n",
    "print(d)"
   ]
  },
  {
   "cell_type": "code",
   "execution_count": 30,
   "id": "15cea431",
   "metadata": {},
   "outputs": [
    {
     "name": "stdout",
     "output_type": "stream",
     "text": [
      "{'a1': 10, 'a2': 20, 'a3': 30, 'a4': 40}\n",
      "{'a1': 10, 'a2': 50, 'a3': 30, 'a4': 40}\n"
     ]
    }
   ],
   "source": [
    "# update value to the dict\n",
    "\n",
    "d = {'a1':10,'a2':20,'a3':30,'a4':40}\n",
    "print(d)\n",
    "d['a2']= 50\n",
    "print(d)"
   ]
  },
  {
   "cell_type": "code",
   "execution_count": 32,
   "id": "c58aaef6",
   "metadata": {},
   "outputs": [
    {
     "name": "stdout",
     "output_type": "stream",
     "text": [
      "[10, 20, 30, 40, 50, 60, 70]\n",
      "[10, 20, 40, 50, 60, 70]\n",
      "[10, 20, 40, 50, 60]\n"
     ]
    }
   ],
   "source": [
    "# List function\n",
    "w = [10,20,30,40,50,60,70]\n",
    "print(w)\n",
    "w.pop(2)\n",
    "print(w)\n",
    "w.pop(5)\n",
    "print(w)"
   ]
  },
  {
   "cell_type": "code",
   "execution_count": 33,
   "id": "8b6d745d",
   "metadata": {},
   "outputs": [
    {
     "name": "stdout",
     "output_type": "stream",
     "text": [
      "[2, 3, 4, 5]\n",
      "[2, 3, 4, 5, 6]\n",
      "[2, 3, 4, 5, 6, 7]\n"
     ]
    }
   ],
   "source": [
    "x = [2,3,4,5]\n",
    "print(x)\n",
    "x.append(6)\n",
    "print(x)\n",
    "x.append(7)\n",
    "print(x)"
   ]
  },
  {
   "cell_type": "code",
   "execution_count": 34,
   "id": "bbd34e9f",
   "metadata": {},
   "outputs": [
    {
     "name": "stdout",
     "output_type": "stream",
     "text": [
      "[10, 20, 30, 10, 50, 60, 20, 20, 30, 40]\n",
      "2\n",
      "3\n",
      "2\n",
      "1\n"
     ]
    }
   ],
   "source": [
    "w = [10,20,30,10,50,60,20,20,30,40]\n",
    "print(w)\n",
    "print(w.count(10))\n",
    "print(w.count(20))\n",
    "print(w.count(30))\n",
    "print(w.count(40))\n"
   ]
  },
  {
   "cell_type": "code",
   "execution_count": 35,
   "id": "bb87f8ba",
   "metadata": {},
   "outputs": [
    {
     "name": "stdout",
     "output_type": "stream",
     "text": [
      "[10, 20, 30, 10, 50, 60, 20, 20, 30, 40]\n",
      "0\n",
      "1\n",
      "2\n",
      "9\n"
     ]
    }
   ],
   "source": [
    "w = [10,20,30,10,50,60,20,20,30,40]\n",
    "print(w)\n",
    "print(w.index(10))\n",
    "print(w.index(20))\n",
    "print(w.index(30))\n",
    "print(w.index(40))"
   ]
  },
  {
   "cell_type": "code",
   "execution_count": 38,
   "id": "eb9c7656",
   "metadata": {},
   "outputs": [
    {
     "name": "stdout",
     "output_type": "stream",
     "text": [
      "[7, 2, 6, 9, 12, 15, 20]\n",
      "[2, 6, 7, 9, 12, 15, 20]\n",
      "[20, 15, 12, 9, 7, 6, 2]\n"
     ]
    }
   ],
   "source": [
    "x = [7,2,6,9,12,15,20]\n",
    "print(x)\n",
    "x.sort() # asc\n",
    "print(x)\n",
    "x.sort(reverse =True) # desc\n",
    "print(x)"
   ]
  },
  {
   "cell_type": "code",
   "execution_count": 41,
   "id": "5aa54ecc",
   "metadata": {},
   "outputs": [
    {
     "name": "stdout",
     "output_type": "stream",
     "text": [
      "[7, 2, 6, 9, 12, 15, 20]\n",
      "[7, 2, 'Python', 6, 9, 12, 15, 20]\n",
      "[7, 2, 'Python', 6, 'V', 9, 12, 15, 20]\n"
     ]
    }
   ],
   "source": [
    "x = [7,2,6,9,12,15,20]\n",
    "print(x)\n",
    "x.insert(2,'Python')\n",
    "print(x)\n",
    "x.insert(4,'V')\n",
    "print(x)"
   ]
  },
  {
   "cell_type": "code",
   "execution_count": 43,
   "id": "d4be35bd",
   "metadata": {},
   "outputs": [
    {
     "name": "stdout",
     "output_type": "stream",
     "text": [
      "set() <class 'set'>\n"
     ]
    }
   ],
   "source": [
    "# Set\n",
    "# empty\n",
    "w1 = set()\n",
    "print(w1,type(w1))\n"
   ]
  },
  {
   "cell_type": "code",
   "execution_count": 44,
   "id": "098d72d0",
   "metadata": {},
   "outputs": [
    {
     "name": "stdout",
     "output_type": "stream",
     "text": [
      "{50, 20, 40, 10, 60, 30}\n",
      "<class 'set'>\n",
      "6\n"
     ]
    }
   ],
   "source": [
    "x ={10,20,30,40,50,60}\n",
    "print(x)\n",
    "print(type(x))\n",
    "print(len(x))"
   ]
  },
  {
   "cell_type": "code",
   "execution_count": 46,
   "id": "d6b461aa",
   "metadata": {},
   "outputs": [
    {
     "name": "stdout",
     "output_type": "stream",
     "text": [
      "{50, 20, 40, 10, 60, 30}\n",
      "<class 'set'>\n",
      "6\n"
     ]
    }
   ],
   "source": [
    "# Set has no duplicates value\n",
    "\n",
    "x ={10,20,30,40,10,20,50,60,20,30,50,60}\n",
    "print(x)\n",
    "print(type(x))\n",
    "print(len(x))\n"
   ]
  },
  {
   "cell_type": "code",
   "execution_count": null,
   "id": "165080b4",
   "metadata": {},
   "outputs": [],
   "source": []
  },
  {
   "cell_type": "code",
   "execution_count": null,
   "id": "2ff2e018",
   "metadata": {},
   "outputs": [],
   "source": []
  },
  {
   "cell_type": "code",
   "execution_count": null,
   "id": "a5431bc5",
   "metadata": {},
   "outputs": [],
   "source": []
  },
  {
   "cell_type": "code",
   "execution_count": null,
   "id": "9d411cb0",
   "metadata": {},
   "outputs": [],
   "source": []
  },
  {
   "cell_type": "code",
   "execution_count": null,
   "id": "ef7f4b52",
   "metadata": {},
   "outputs": [],
   "source": []
  },
  {
   "cell_type": "code",
   "execution_count": null,
   "id": "0b125d1b",
   "metadata": {},
   "outputs": [],
   "source": []
  },
  {
   "cell_type": "code",
   "execution_count": null,
   "id": "8c1d93da",
   "metadata": {},
   "outputs": [],
   "source": []
  },
  {
   "cell_type": "code",
   "execution_count": null,
   "id": "74fbba5a",
   "metadata": {},
   "outputs": [],
   "source": []
  },
  {
   "cell_type": "code",
   "execution_count": null,
   "id": "adef60ef",
   "metadata": {},
   "outputs": [],
   "source": []
  }
 ],
 "metadata": {
  "kernelspec": {
   "display_name": "Python 3 (ipykernel)",
   "language": "python",
   "name": "python3"
  },
  "language_info": {
   "codemirror_mode": {
    "name": "ipython",
    "version": 3
   },
   "file_extension": ".py",
   "mimetype": "text/x-python",
   "name": "python",
   "nbconvert_exporter": "python",
   "pygments_lexer": "ipython3",
   "version": "3.11.3"
  }
 },
 "nbformat": 4,
 "nbformat_minor": 5
}
