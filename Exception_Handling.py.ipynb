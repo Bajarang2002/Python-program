{
 "cells": [
  {
   "cell_type": "code",
   "execution_count": 3,
   "id": "c952ad12",
   "metadata": {},
   "outputs": [
    {
     "name": "stdout",
     "output_type": "stream",
     "text": [
      "Can not divide by zero\n",
      "Code is exicuted without error\n"
     ]
    }
   ],
   "source": [
    "marks= 1000\n",
    "\n",
    "try:\n",
    "    a= marks/0\n",
    "    print(a)\n",
    "\n",
    "except:\n",
    "    print('Can not divide by zero')\n",
    "    \n",
    "finally:\n",
    "    print('Code is exicuted without error')\n",
    "\n"
   ]
  }
 ],
 "metadata": {
  "kernelspec": {
   "display_name": "Python 3 (ipykernel)",
   "language": "python",
   "name": "python3"
  },
  "language_info": {
   "codemirror_mode": {
    "name": "ipython",
    "version": 3
   },
   "file_extension": ".py",
   "mimetype": "text/x-python",
   "name": "python",
   "nbconvert_exporter": "python",
   "pygments_lexer": "ipython3",
   "version": "3.11.3"
  }
 },
 "nbformat": 4,
 "nbformat_minor": 5
}
