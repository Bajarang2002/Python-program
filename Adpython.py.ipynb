{
 "cells": [
  {
   "cell_type": "code",
   "execution_count": 2,
   "id": "8a10ea2a",
   "metadata": {},
   "outputs": [
    {
     "name": "stdout",
     "output_type": "stream",
     "text": [
      "10\n"
     ]
    }
   ],
   "source": [
    "w = lambda x,y : x+y\n",
    "print(w(4,6))"
   ]
  },
  {
   "cell_type": "code",
   "execution_count": 4,
   "id": "08df1dd4",
   "metadata": {},
   "outputs": [
    {
     "name": "stdout",
     "output_type": "stream",
     "text": [
      "[0, 4, 8, 12, 16, 20]\n"
     ]
    }
   ],
   "source": [
    "w = lambda  x,y : [i*x for i in range(y)] # y =0,1,2,3,4,5\n",
    "print(w(4,6))"
   ]
  },
  {
   "cell_type": "code",
   "execution_count": 7,
   "id": "cd085a3b",
   "metadata": {},
   "outputs": [
    {
     "name": "stdout",
     "output_type": "stream",
     "text": [
      "T_I\n"
     ]
    }
   ],
   "source": [
    "w =lambda fd,ld : fd[-1].upper()+'_'+ld[-1].upper()\n",
    "print(w(\"virat\",\"kohli\"))"
   ]
  },
  {
   "cell_type": "code",
   "execution_count": 8,
   "id": "3e97ff59",
   "metadata": {},
   "outputs": [
    {
     "name": "stdout",
     "output_type": "stream",
     "text": [
      "V_K\n"
     ]
    }
   ],
   "source": [
    "w =lambda fd,ld : fd[0].upper()+'_'+ld[0].upper()\n",
    "print(w(\"virat\",\"kohli\"))"
   ]
  },
  {
   "cell_type": "code",
   "execution_count": 11,
   "id": "e7340548",
   "metadata": {},
   "outputs": [
    {
     "name": "stdout",
     "output_type": "stream",
     "text": [
      "35\n"
     ]
    }
   ],
   "source": [
    "w =lambda a,b : (a*b)-5 if (a+b)%2==0 else (b-a)*2\n",
    "print(w(10,4))"
   ]
  },
  {
   "cell_type": "code",
   "execution_count": 7,
   "id": "4cc2ea92",
   "metadata": {},
   "outputs": [
    {
     "name": "stdout",
     "output_type": "stream",
     "text": [
      "[5, 7, 9, 10, 13, 14]\n"
     ]
    }
   ],
   "source": [
    "# map function\n",
    "r = [10,12,14,15,18,19]\n",
    "def sub(x):\n",
    "    return x-5\n",
    "#print(sub(r))\n",
    "w = list(map(sub,r))\n",
    "print(w)"
   ]
  },
  {
   "cell_type": "code",
   "execution_count": 8,
   "id": "7aa4f6fb",
   "metadata": {},
   "outputs": [
    {
     "name": "stdout",
     "output_type": "stream",
     "text": [
      "[5, 7, 9, 10, 13, 14]\n"
     ]
    }
   ],
   "source": [
    "r = [10,12,14,15,18,19]\n",
    "def sub(x):\n",
    "    return x-5\n",
    "w = list(map(lambda x:x-5,r))\n",
    "print(w)"
   ]
  },
  {
   "cell_type": "code",
   "execution_count": 13,
   "id": "e49ce109",
   "metadata": {},
   "outputs": [
    {
     "name": "stdout",
     "output_type": "stream",
     "text": [
      "{'a1': 10, 'a2': 15, 'a3': 20, 'a4': 25}\n",
      "['a1_keys', 'a2_keys', 'a3_keys', 'a4_keys']\n",
      "[50, 75, 100, 125]\n",
      "{'keys_a1': 100, 'keys_a2': 150, 'keys_a3': 200, 'keys_a4': 250}\n"
     ]
    }
   ],
   "source": [
    "d= {'a1':10,'a2':15,'a3':20,'a4':25}\n",
    "print(d)\n",
    "m1=list(map(lambda x: x+\"_keys\",d.keys()))\n",
    "m2= list(map(lambda x:x*5,d.values()))\n",
    "m3 =dict(map(lambda x:(\"keys_\"+x[0],x[1]*10),d.items()))\n",
    "print(m1)\n",
    "print(m2)\n",
    "print(m3)"
   ]
  },
  {
   "cell_type": "code",
   "execution_count": 14,
   "id": "bc22a11d",
   "metadata": {},
   "outputs": [
    {
     "name": "stdout",
     "output_type": "stream",
     "text": [
      "[10, 12, 14, 16, 18]\n"
     ]
    }
   ],
   "source": [
    "# filter function\n",
    "r =[10,12,14,15,16,17,18]\n",
    "def select_even(x):\n",
    "    return x%2==0\n",
    "w = list(filter(select_even,r))\n",
    "print(w)\n"
   ]
  },
  {
   "cell_type": "code",
   "execution_count": 21,
   "id": "ba99f574",
   "metadata": {},
   "outputs": [
    {
     "name": "stdout",
     "output_type": "stream",
     "text": [
      "[10, 12, 14, 16, 18]\n"
     ]
    }
   ],
   "source": [
    "r =[10,12,14,15,16,17,18]\n",
    "def select_even(x):\n",
    "    return x%2==0\n",
    "w = list(filter(lambda x:x%2==0,r))\n",
    "print(w)\n"
   ]
  },
  {
   "cell_type": "code",
   "execution_count": 20,
   "id": "e3284ace",
   "metadata": {
    "scrolled": true
   },
   "outputs": [
    {
     "name": "stdout",
     "output_type": "stream",
     "text": [
      "['abbcbkhlj', 'affyuf', 'auufuf']\n",
      "[20, 25, 35]\n",
      "{'abbcbkhlj': 10, 'auufuf': 20}\n"
     ]
    }
   ],
   "source": [
    "d ={'abbcbkhlj':10,'affyuf':15,'auufuf':20,'chcjj':25,'afufu':35}\n",
    "m1= list(filter(lambda x:len(x)%3==0,d.keys()))\n",
    "m2 = list(filter(lambda x:x>15,d.values()))\n",
    "m3 = dict(filter(lambda x: x[1]%2==0,d.items()))\n",
    "print(m1)\n",
    "print(m2)\n",
    "print(m3)"
   ]
  },
  {
   "cell_type": "code",
   "execution_count": 81,
   "id": "fe2b6383",
   "metadata": {},
   "outputs": [],
   "source": [
    "# Reduce function\n",
    "from functools import reduce"
   ]
  },
  {
   "cell_type": "code",
   "execution_count": 85,
   "id": "6f12032c",
   "metadata": {},
   "outputs": [
    {
     "name": "stdout",
     "output_type": "stream",
     "text": [
      "15\n",
      "25\n"
     ]
    }
   ],
   "source": [
    "f =[1,2,3,4,5]\n",
    "m1 =reduce(lambda x,y:x+y,f)\n",
    "print(m1)\n",
    "m2 =reduce(lambda x,y:x+y,f,10)\n",
    "print(m2)"
   ]
  },
  {
   "cell_type": "code",
   "execution_count": 25,
   "id": "f92c79d8",
   "metadata": {},
   "outputs": [
    {
     "name": "stdout",
     "output_type": "stream",
     "text": [
      "[(1, 'a', 'Pune'), (2, 'b', 'Nagpur'), (3, 'c', 'Mumbai'), (4, 'd', 'Kolhapur'), (5, 'e', 'Nashik'), (6, 'f', 'satara')]\n",
      "[(1, 'a', 'Pune'), (2, 'b', 'Nagpur'), (3, 'c', 'Mumbai'), (4, 'd', 'Kolhapur'), (5, 'e', 'Nashik'), (6, 'f', 'satara')]\n",
      "{1: 'a', 2: 'b', 3: 'c', 4: 'd', 5: 'e', 6: 'f'}\n"
     ]
    }
   ],
   "source": [
    "#zip function\n",
    "k1 =[1,2,3,4,5,6]\n",
    "k2 =['a','b','c','d','e','f']\n",
    "k3 =['Pune','Nagpur','Mumbai','Kolhapur','Nashik','satara']\n",
    "m1 = list(zip(k1,k2,k3))\n",
    "m2 =list(zip(k1,k2,k3))\n",
    "m3 =dict(zip(k1,k2))\n",
    "print(m1)\n",
    "print(m2)\n",
    "print(m3)\n"
   ]
  },
  {
   "cell_type": "code",
   "execution_count": 37,
   "id": "d8e01614",
   "metadata": {},
   "outputs": [
    {
     "name": "stdout",
     "output_type": "stream",
     "text": [
      "0 10 10\n",
      "1 12 12\n",
      "2 15 15\n",
      "3 16 16\n",
      "4 17 17\n",
      "5 18 18\n",
      "6 20 20\n"
     ]
    }
   ],
   "source": [
    "#enumrate function\n",
    "\n",
    "x = [10,12,15,16,17,18,20]\n",
    "for i,j in enumerate (x):\n",
    "    print(i,j,x[i])"
   ]
  },
  {
   "cell_type": "code",
   "execution_count": 40,
   "id": "f87186ee",
   "metadata": {},
   "outputs": [
    {
     "name": "stdout",
     "output_type": "stream",
     "text": [
      "4 10\n",
      "5 12\n",
      "6 15\n",
      "7 16\n",
      "8 17\n",
      "9 18\n",
      "10 20\n"
     ]
    }
   ],
   "source": [
    "x = [10,12,15,16,17,18,20]\n",
    "for i,j in enumerate (x,start=4):\n",
    "    print(i,j)"
   ]
  },
  {
   "cell_type": "code",
   "execution_count": 1,
   "id": "a6eb8a9a",
   "metadata": {},
   "outputs": [
    {
     "name": "stdout",
     "output_type": "stream",
     "text": [
      "0 Name ram\n",
      "1 Age 18\n",
      "2 salary 100000\n"
     ]
    }
   ],
   "source": [
    "d ={'Name':'ram','Age':18,'salary':100000}\n",
    "for i,j in enumerate (d.items()):\n",
    "    print(i,j[0],j[1])"
   ]
  },
  {
   "cell_type": "code",
   "execution_count": 46,
   "id": "41008b62",
   "metadata": {},
   "outputs": [
    {
     "name": "stdout",
     "output_type": "stream",
     "text": [
      "12\n"
     ]
    }
   ],
   "source": [
    "def sumnnum(x,y):\n",
    "    return x+y\n",
    "print(sumnnum(4,8))"
   ]
  },
  {
   "cell_type": "code",
   "execution_count": 71,
   "id": "dd7fbe08",
   "metadata": {},
   "outputs": [
    {
     "name": "stdout",
     "output_type": "stream",
     "text": [
      "10\n",
      "None\n",
      "24\n",
      "None\n"
     ]
    }
   ],
   "source": [
    "def sumnnum(*args):\n",
    "    t=0\n",
    "    for i in args:\n",
    "        t+=i\n",
    "    print(t)\n",
    "print(sumnnum(4,6))\n",
    "print(sumnnum(4,5,7,8))"
   ]
  },
  {
   "cell_type": "code",
   "execution_count": 63,
   "id": "3c470fb8",
   "metadata": {},
   "outputs": [
    {
     "name": "stdout",
     "output_type": "stream",
     "text": [
      "10\n",
      "None\n",
      "24\n",
      "None\n"
     ]
    }
   ],
   "source": [
    "def sumnnum(*x):\n",
    "    t=0\n",
    "    for i in x:\n",
    "        t+=i\n",
    "    print(t)\n",
    "print(sumnnum(4,6))\n",
    "print(sumnnum(4,5,7,8))"
   ]
  },
  {
   "cell_type": "code",
   "execution_count": 77,
   "id": "9c143fd9",
   "metadata": {},
   "outputs": [
    {
     "name": "stdout",
     "output_type": "stream",
     "text": [
      "([4, 6], [2, 4, 5, 6])\n",
      "27\n",
      "None\n",
      "([4, 5, 7, 8], [2, 3, 4, 5])\n",
      "38\n",
      "None\n"
     ]
    }
   ],
   "source": [
    "def sumnnum(*x):\n",
    "    print(x)\n",
    "    res=[sum(i) for i in x]\n",
    "    #print(res)\n",
    "    print(sum(res))\n",
    "print(sumnnum([4,6],[2,4,5,6,]))\n",
    "print(sumnnum([4,5,7,8],[2,3,4,5]))"
   ]
  },
  {
   "cell_type": "code",
   "execution_count": 74,
   "id": "692ef908",
   "metadata": {},
   "outputs": [
    {
     "name": "stdout",
     "output_type": "stream",
     "text": [
      "{'name': 'Ram', 'age': 18, 'city': 'Mumbai'}\n"
     ]
    }
   ],
   "source": [
    "def fun1(**kwargs):\n",
    "    print(kwargs)\n",
    "fun1(name='Ram',age =18,city='Mumbai')"
   ]
  },
  {
   "cell_type": "code",
   "execution_count": 11,
   "id": "02cc4c4e",
   "metadata": {},
   "outputs": [
    {
     "name": "stdout",
     "output_type": "stream",
     "text": [
      "Mobail 5000\n"
     ]
    }
   ],
   "source": [
    "pprice = {\"sneakers\":1000,\"Dairy milk\": 2000,\"Mobail\":5000,\"Tv\":10000,\"pen\":700,\"washing machine\":12000}\n",
    "psold =[\"Mobail\",\"Dairy Milk\",\"Pen\"]\n",
    "for i ,j in pprice.items():\n",
    "    if i in psold:\n",
    "        print(i,j)"
   ]
  },
  {
   "cell_type": "code",
   "execution_count": 9,
   "id": "689e64a6",
   "metadata": {},
   "outputs": [
    {
     "name": "stdout",
     "output_type": "stream",
     "text": [
      "10\n"
     ]
    }
   ],
   "source": [
    "# Generators\n",
    "\n",
    "def demo1():\n",
    "    return 5+5\n",
    "    return \"python language\"\n",
    "a =demo1()\n",
    "print(a)"
   ]
  },
  {
   "cell_type": "code",
   "execution_count": 11,
   "id": "189fce99",
   "metadata": {},
   "outputs": [
    {
     "name": "stdout",
     "output_type": "stream",
     "text": [
      "10\n",
      "python language\n"
     ]
    }
   ],
   "source": [
    "def demo2():\n",
    "    yield 5+5\n",
    "    yield \"python language\"\n",
    "a = demo2()\n",
    "for i in a:\n",
    "    print(i)"
   ]
  },
  {
   "cell_type": "code",
   "execution_count": 15,
   "id": "dd932adc",
   "metadata": {},
   "outputs": [
    {
     "name": "stdout",
     "output_type": "stream",
     "text": [
      "10\n",
      "python language\n",
      "welcome\n"
     ]
    }
   ],
   "source": [
    "def demo3():\n",
    "    yield 5+5\n",
    "    yield \"python language\"\n",
    "    yield \"welcome\"\n",
    "a = demo3()\n",
    "print(next(a))\n",
    "print(next(a))\n",
    "print(next(a))"
   ]
  },
  {
   "cell_type": "code",
   "execution_count": 24,
   "id": "17bcb16e",
   "metadata": {},
   "outputs": [
    {
     "name": "stdout",
     "output_type": "stream",
     "text": [
      "2\n",
      "3\n",
      "4\n"
     ]
    }
   ],
   "source": [
    "def demo4():\n",
    "    for i in range(2,5):\n",
    "        yield i\n",
    "a1 = demo4()\n",
    "for i in a1:\n",
    "    print(i)"
   ]
  },
  {
   "cell_type": "code",
   "execution_count": 29,
   "id": "c519fd7c",
   "metadata": {},
   "outputs": [
    {
     "name": "stdout",
     "output_type": "stream",
     "text": [
      "python\n",
      "welcome\n"
     ]
    }
   ],
   "source": [
    "# Decoraters\n",
    "\n",
    "def demo1():\n",
    "    def inner():\n",
    "        return \"python\"\n",
    "    a = inner()\n",
    "    print(a)\n",
    "    print(\"welcome\")\n",
    "demo1()\n"
   ]
  },
  {
   "cell_type": "code",
   "execution_count": 32,
   "id": "f9503e4b",
   "metadata": {},
   "outputs": [
    {
     "name": "stdout",
     "output_type": "stream",
     "text": [
      "python\n",
      "welcome\n"
     ]
    }
   ],
   "source": [
    "def demo1():\n",
    "    def inner():\n",
    "        print(\"python\")\n",
    "    inner()\n",
    "    return \"welcome\"\n",
    "a =demo1()\n",
    "print(a)\n"
   ]
  },
  {
   "cell_type": "code",
   "execution_count": 1,
   "id": "1e01cf55",
   "metadata": {},
   "outputs": [
    {
     "name": "stdout",
     "output_type": "stream",
     "text": [
      "python\n"
     ]
    }
   ],
   "source": [
    "def demo1():\n",
    "    def inner():\n",
    "        return \"python\"\n",
    "    return inner()\n",
    "    return \"welcome\"\n",
    "a =demo1()\n",
    "print(a)\n"
   ]
  },
  {
   "cell_type": "code",
   "execution_count": 8,
   "id": "80898dd8",
   "metadata": {},
   "outputs": [
    {
     "name": "stdout",
     "output_type": "stream",
     "text": [
      "Decorating the x function\n",
      "Understanding decorating function:\n"
     ]
    }
   ],
   "source": [
    "def outer(x):\n",
    "    def inner():\n",
    "        print(\"Decorating the x function\")\n",
    "        return x()\n",
    "    return inner()\n",
    "def sample():\n",
    "    print(\"Understanding decorating function:\")\n",
    "a = outer(sample)\n"
   ]
  },
  {
   "cell_type": "code",
   "execution_count": 16,
   "id": "99d33248",
   "metadata": {},
   "outputs": [
    {
     "name": "stdout",
     "output_type": "stream",
     "text": [
      "Decorating the x function\n",
      "Understanding decorating function:\n",
      "Decorating the x function\n",
      "40\n"
     ]
    }
   ],
   "source": [
    "def decoraters(x):\n",
    "    def wrapers():\n",
    "        print(\"Decorating the x function\")\n",
    "        return x()\n",
    "    return wrapers()\n",
    "def sample():\n",
    "    print(\"Understanding decorating function:\")\n",
    "def product():\n",
    "    print(5*8)\n",
    "a =outer(sample)\n",
    "b = outer(product)\n"
   ]
  },
  {
   "cell_type": "code",
   "execution_count": 24,
   "id": "8146a399",
   "metadata": {},
   "outputs": [
    {
     "name": "stdout",
     "output_type": "stream",
     "text": [
      "mobail True\n",
      "computer True\n",
      "remote True\n",
      "phone False\n",
      "Mixter True\n",
      "printer False\n"
     ]
    }
   ],
   "source": [
    "def even_chk(n):\n",
    "    if n%2==0:\n",
    "        return True\n",
    "    else:\n",
    "        return False\n",
    "word =(\"mobail\",\"computer\",\"remote\",\"phone\",\"Mixter\",\"printer\")\n",
    "def word_chk(word):\n",
    "    for i in word:\n",
    "        print(i,even_chk(len(i)))\n",
    "word_chk(word)\n"
   ]
  },
  {
   "cell_type": "code",
   "execution_count": 52,
   "id": "2fe0f219",
   "metadata": {},
   "outputs": [
    {
     "name": "stdout",
     "output_type": "stream",
     "text": [
      "Parent class method:\n",
      "10\n",
      "20\n",
      "Parent class method:\n"
     ]
    },
    {
     "ename": "AttributeError",
     "evalue": "'demoCclass' object has no attribute '_m1'",
     "output_type": "error",
     "traceback": [
      "\u001b[1;31m---------------------------------------------------------------------------\u001b[0m",
      "\u001b[1;31mAttributeError\u001b[0m                            Traceback (most recent call last)",
      "Cell \u001b[1;32mIn[52], line 23\u001b[0m\n\u001b[0;32m     21\u001b[0m \u001b[38;5;28mprint\u001b[39m(w1\u001b[38;5;241m.\u001b[39m_a2)\n\u001b[0;32m     22\u001b[0m w2 \u001b[38;5;241m=\u001b[39m demoCclass()\n\u001b[1;32m---> 23\u001b[0m \u001b[43mw2\u001b[49m\u001b[38;5;241;43m.\u001b[39;49m\u001b[43m_m1\u001b[49m()\n",
      "\u001b[1;31mAttributeError\u001b[0m: 'demoCclass' object has no attribute '_m1'"
     ]
    }
   ],
   "source": [
    "# Encapsulation\n",
    "\n",
    "class demopclass:\n",
    "    def __init__(self):\n",
    "        self.a1 = 10\n",
    "        self._a2 = 20\n",
    "        self.__a3 = 30\n",
    "        print(\"Parent class method:\")\n",
    "class demoCclass(demopclass):\n",
    "    def m1():\n",
    "        print(\"parent public variable:\",self.a1)\n",
    "        print(\"parent protected variable:\",self._a2)\n",
    "        try:\n",
    "            print(\"parent private variable\",self.__a3)\n",
    "        except:\n",
    "            print(\"Can not access parent private variable\")\n",
    "        finally:\n",
    "            print(\"can access parent private variable\")\n",
    "w1 = demopclass()\n",
    "print(w1.a1)\n",
    "print(w1._a2)\n",
    "w2 = demoCclass()\n",
    "w2.m1()\n"
   ]
  },
  {
   "cell_type": "code",
   "execution_count": 46,
   "id": "6fe55ec6",
   "metadata": {},
   "outputs": [
    {
     "name": "stdout",
     "output_type": "stream",
     "text": [
      "Parent class method\n",
      "Ram is 18 years old\n"
     ]
    }
   ],
   "source": [
    "class p:\n",
    "    def fun1(self):\n",
    "        print(\"Parent class method\")\n",
    "class c(p):\n",
    "    def fun1(self,name,age):\n",
    "        self.name = name\n",
    "        self.age = age\n",
    "        print(f'{self.name} is {self.age} years old')\n",
    "p1 = p()\n",
    "p1.fun1()\n",
    "c1 = c()\n",
    "c1.fun1(\"Ram\",18)\n",
    "              \n",
    "              \n"
   ]
  },
  {
   "cell_type": "code",
   "execution_count": 49,
   "id": "21d7a153",
   "metadata": {},
   "outputs": [
    {
     "name": "stdout",
     "output_type": "stream",
     "text": [
      "[5, 13, 23, 35, 50, 69, 89, 89]\n"
     ]
    }
   ],
   "source": [
    "n = [5,8,10,12,15,19,20]\n",
    "res =[sum(n[:i+1]) for i in range(len(n)+1)]\n",
    "print(res)"
   ]
  },
  {
   "cell_type": "code",
   "execution_count": null,
   "id": "8375cc4b",
   "metadata": {},
   "outputs": [],
   "source": []
  },
  {
   "cell_type": "code",
   "execution_count": null,
   "id": "d02572c1",
   "metadata": {},
   "outputs": [],
   "source": []
  }
 ],
 "metadata": {
  "kernelspec": {
   "display_name": "Python 3 (ipykernel)",
   "language": "python",
   "name": "python3"
  },
  "language_info": {
   "codemirror_mode": {
    "name": "ipython",
    "version": 3
   },
   "file_extension": ".py",
   "mimetype": "text/x-python",
   "name": "python",
   "nbconvert_exporter": "python",
   "pygments_lexer": "ipython3",
   "version": "3.11.3"
  }
 },
 "nbformat": 4,
 "nbformat_minor": 5
}
