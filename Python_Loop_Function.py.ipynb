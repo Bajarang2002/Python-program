{
 "cells": [
  {
   "cell_type": "code",
   "execution_count": 1,
   "id": "30844f3d",
   "metadata": {},
   "outputs": [
    {
     "name": "stdout",
     "output_type": "stream",
     "text": [
      "0\n",
      "1\n",
      "2\n",
      "3\n",
      "4\n"
     ]
    }
   ],
   "source": [
    "# For Loop\n",
    "\n",
    "for i in range(5):\n",
    "    print(i)\n",
    "\n",
    "\n"
   ]
  },
  {
   "cell_type": "code",
   "execution_count": 2,
   "id": "6d3ecfcf",
   "metadata": {},
   "outputs": [
    {
     "name": "stdout",
     "output_type": "stream",
     "text": [
      "0 1 2 3 4 "
     ]
    }
   ],
   "source": [
    "for i in range(5):\n",
    "    print(i,end = ' ')\n"
   ]
  },
  {
   "cell_type": "code",
   "execution_count": 3,
   "id": "3ace257f",
   "metadata": {},
   "outputs": [
    {
     "name": "stdout",
     "output_type": "stream",
     "text": [
      "2 3 4 5 6 7 8 9 "
     ]
    }
   ],
   "source": [
    "for i in range(2,10):\n",
    "    print(i,end =' ')"
   ]
  },
  {
   "cell_type": "code",
   "execution_count": 4,
   "id": "40f88ea8",
   "metadata": {},
   "outputs": [
    {
     "name": "stdout",
     "output_type": "stream",
     "text": [
      "10 13 16 19 22 25 28 "
     ]
    }
   ],
   "source": [
    "for i in range(10,30,3):\n",
    "    print(i,end =' ')"
   ]
  },
  {
   "cell_type": "code",
   "execution_count": 5,
   "id": "5b5cd41e",
   "metadata": {},
   "outputs": [
    {
     "name": "stdout",
     "output_type": "stream",
     "text": [
      "-5 -3 -1 1 3 "
     ]
    }
   ],
   "source": [
    "for i in range(-5,5,2):\n",
    "    print(i,end =' ')"
   ]
  },
  {
   "cell_type": "code",
   "execution_count": 8,
   "id": "4ab56b51",
   "metadata": {},
   "outputs": [
    {
     "name": "stdout",
     "output_type": "stream",
     "text": [
      "50 48 46 44 42 40 38 36 34 32 30 28 26 24 22 20 18 16 14 12 "
     ]
    }
   ],
   "source": [
    "for i in range(50,10,-2):\n",
    "    print(i,end =' ')"
   ]
  },
  {
   "cell_type": "code",
   "execution_count": 9,
   "id": "88b92fac",
   "metadata": {},
   "outputs": [
    {
     "name": "stdout",
     "output_type": "stream",
     "text": [
      "10 9 8 7 6 5 4 3 2 "
     ]
    }
   ],
   "source": [
    "for i in range(10,1,-1):\n",
    "    print(i,end=' ')"
   ]
  },
  {
   "cell_type": "code",
   "execution_count": null,
   "id": "d4946325",
   "metadata": {},
   "outputs": [],
   "source": [
    "# for loop using atring/list/tuple"
   ]
  },
  {
   "cell_type": "code",
   "execution_count": 13,
   "id": "b591a657",
   "metadata": {},
   "outputs": [
    {
     "name": "stdout",
     "output_type": "stream",
     "text": [
      "M a r v e l "
     ]
    }
   ],
   "source": [
    "s = 'Marvel'\n",
    "for i in s:\n",
    "    print(i,end =' ')"
   ]
  },
  {
   "cell_type": "code",
   "execution_count": 15,
   "id": "026c9667",
   "metadata": {},
   "outputs": [
    {
     "name": "stdout",
     "output_type": "stream",
     "text": [
      "0 M\n",
      "1 a\n",
      "2 r\n",
      "3 v\n",
      "4 e\n",
      "5 l\n"
     ]
    }
   ],
   "source": [
    "s = 'Marvel'\n",
    "for i in range(len(s)):\n",
    "    print(i,s[i])"
   ]
  },
  {
   "cell_type": "code",
   "execution_count": 17,
   "id": "b8841504",
   "metadata": {},
   "outputs": [
    {
     "name": "stdout",
     "output_type": "stream",
     "text": [
      "10 20 30 40 50 60 "
     ]
    }
   ],
   "source": [
    "w = [10,20,30,40,50,60]\n",
    "for i in range(len(w)):\n",
    "               print(w[i],end =' ')"
   ]
  },
  {
   "cell_type": "code",
   "execution_count": 18,
   "id": "fd2222eb",
   "metadata": {},
   "outputs": [
    {
     "name": "stdout",
     "output_type": "stream",
     "text": [
      "10 20 30 40 50 60 "
     ]
    }
   ],
   "source": [
    "w = (10,20,30,40,50,60)\n",
    "for i in range(len(w)):\n",
    "               print(w[i],end =' ')"
   ]
  },
  {
   "cell_type": "code",
   "execution_count": 19,
   "id": "741329c4",
   "metadata": {},
   "outputs": [
    {
     "name": "stdout",
     "output_type": "stream",
     "text": [
      "0 1 2 3 4 5 "
     ]
    }
   ],
   "source": [
    "# While loop\n",
    "\n",
    "i =0\n",
    "while i<=5:\n",
    "    print(i,end =' ')\n",
    "    i+=1\n",
    "\n"
   ]
  },
  {
   "cell_type": "code",
   "execution_count": 20,
   "id": "b47d9a8c",
   "metadata": {},
   "outputs": [
    {
     "name": "stdout",
     "output_type": "stream",
     "text": [
      "1 2 3 4 5 6 "
     ]
    }
   ],
   "source": [
    "\n",
    "i =0\n",
    "while i<=5:\n",
    "    i+=1\n",
    "    print(i,end =' ')\n",
    "\n"
   ]
  },
  {
   "cell_type": "code",
   "execution_count": 21,
   "id": "89744c41",
   "metadata": {},
   "outputs": [
    {
     "name": "stdout",
     "output_type": "stream",
     "text": [
      "M a r v e l "
     ]
    }
   ],
   "source": [
    "# while loop using string/list/tuple\n",
    "\n",
    "s = 'Marvel'\n",
    "i=0\n",
    "while i<len(s):\n",
    "    print(s[i],end =' ')\n",
    "    i+=1\n"
   ]
  },
  {
   "cell_type": "code",
   "execution_count": 22,
   "id": "9647c180",
   "metadata": {},
   "outputs": [
    {
     "name": "stdout",
     "output_type": "stream",
     "text": [
      "10 20 30 40 50 60 "
     ]
    }
   ],
   "source": [
    "w = [10,20,30,40,50,60]\n",
    "i=0\n",
    "while i<len(w):\n",
    "    print(w[i],end =' ')\n",
    "    i+=1"
   ]
  },
  {
   "cell_type": "code",
   "execution_count": 23,
   "id": "c9c0db77",
   "metadata": {},
   "outputs": [
    {
     "name": "stdout",
     "output_type": "stream",
     "text": [
      "10 20 30 40 50 60 "
     ]
    }
   ],
   "source": [
    "w = (10,20,30,40,50,60)\n",
    "i=0\n",
    "while i<len(w):\n",
    "    print(w[i],end =' ')\n",
    "    i+=1"
   ]
  },
  {
   "cell_type": "code",
   "execution_count": null,
   "id": "d763958a",
   "metadata": {},
   "outputs": [],
   "source": [
    "# Remove duplicates using for loop"
   ]
  },
  {
   "cell_type": "code",
   "execution_count": 25,
   "id": "a72104d1",
   "metadata": {},
   "outputs": [
    {
     "name": "stdout",
     "output_type": "stream",
     "text": [
      "['Google', 'Meta', 'Microsoft', 'Amazon', 'Tcs']\n"
     ]
    }
   ],
   "source": [
    "words = ['Google','Meta','Microsoft','Amazon','Meta','Tcs']\n",
    "r = []\n",
    "for i in words:\n",
    "    if i not in r:\n",
    "        r.append(i)\n",
    "print(r)"
   ]
  },
  {
   "cell_type": "code",
   "execution_count": null,
   "id": "e8c4b24e",
   "metadata": {},
   "outputs": [],
   "source": [
    "# Extract even numbers from the list"
   ]
  },
  {
   "cell_type": "code",
   "execution_count": 26,
   "id": "8d05860a",
   "metadata": {},
   "outputs": [
    {
     "name": "stdout",
     "output_type": "stream",
     "text": [
      "2 4 6 6 8 10 12 "
     ]
    }
   ],
   "source": [
    "x = [2,3,4,5,6,7,6,8,9,10,11,12]\n",
    "for i in range(len(x)):\n",
    "    if x[i]%2 ==0:\n",
    "        print(x[i],end =' ')"
   ]
  },
  {
   "cell_type": "code",
   "execution_count": 27,
   "id": "fcfff6b0",
   "metadata": {},
   "outputs": [
    {
     "name": "stdout",
     "output_type": "stream",
     "text": [
      "14 32 46 "
     ]
    }
   ],
   "source": [
    "# Extract even number from at odd index\n",
    "\n",
    "x= [10,14,17,21,20,32,45,37,38,39,43,46]\n",
    "for i in range(len(x)):\n",
    "    if i%2 !=0:\n",
    "        if x[i]%2==0:\n",
    "            print(x[i],end=' ')"
   ]
  },
  {
   "cell_type": "code",
   "execution_count": null,
   "id": "847ab0d2",
   "metadata": {},
   "outputs": [],
   "source": [
    "# Function\n",
    "# User defined function"
   ]
  },
  {
   "cell_type": "code",
   "execution_count": 30,
   "id": "d8f39930",
   "metadata": {},
   "outputs": [
    {
     "name": "stdout",
     "output_type": "stream",
     "text": [
      "7\n",
      "8\n",
      "product of 7 and 8 is 56\n"
     ]
    }
   ],
   "source": [
    "# Non parametrized fuction\n",
    "\n",
    "def prod2num():\n",
    "    a = int(input())\n",
    "    b = int(input())\n",
    "    print(f'product of {a} and {b} is {a*b}')\n",
    "    \n",
    "prod2num()"
   ]
  },
  {
   "cell_type": "code",
   "execution_count": 31,
   "id": "351d44ba",
   "metadata": {},
   "outputs": [
    {
     "name": "stdout",
     "output_type": "stream",
     "text": [
      "Enter the number: 5\n",
      "Factorial of 5 is 120\n"
     ]
    }
   ],
   "source": [
    "def factorial():\n",
    "    n = int(input(\"Enter the number: \"))\n",
    "    f=1\n",
    "    for i in range(1,n+1):\n",
    "        f =f*i\n",
    "    print(f'Factorial of {n} is {f}')\n",
    "\n",
    "factorial()"
   ]
  },
  {
   "cell_type": "code",
   "execution_count": 32,
   "id": "5e4b4b8d",
   "metadata": {},
   "outputs": [
    {
     "name": "stdout",
     "output_type": "stream",
     "text": [
      "7\n"
     ]
    }
   ],
   "source": [
    "# Parametrized function\n",
    "\n",
    "def fun1(a,b,c):\n",
    "    res = (a*b)-c\n",
    "    print(res)\n",
    "fun1(3,4,5)"
   ]
  },
  {
   "cell_type": "code",
   "execution_count": 34,
   "id": "9fc18a05",
   "metadata": {},
   "outputs": [
    {
     "name": "stdout",
     "output_type": "stream",
     "text": [
      "7\n",
      "5\n"
     ]
    }
   ],
   "source": [
    "def fun2(a,b,c=7):\n",
    "    res = (a*b)-c\n",
    "    print(res)\n",
    "fun2(3,4,5)\n",
    "fun2(3,4)"
   ]
  },
  {
   "cell_type": "code",
   "execution_count": null,
   "id": "99adb882",
   "metadata": {},
   "outputs": [],
   "source": [
    "# The absolute difference between sum of two largest and product of two smallest  element"
   ]
  },
  {
   "cell_type": "code",
   "execution_count": 36,
   "id": "89e2b1a7",
   "metadata": {},
   "outputs": [
    {
     "name": "stdout",
     "output_type": "stream",
     "text": [
      "Sum of largest number: 24\n",
      "Product of smallest number: 6\n",
      "18\n"
     ]
    }
   ],
   "source": [
    "def compute_abs_difference(n):\n",
    "    n.sort()\n",
    "    lar2num = sum(n[-2:])\n",
    "    prod2num = n[0]*n[1]\n",
    "    print(\"Sum of largest number:\", lar2num)\n",
    "    print(\"Product of smallest number:\", prod2num)\n",
    "    abs_difference= abs(lar2num - prod2num)\n",
    "    print(abs_difference)\n",
    "w =[4,5,2,7,9,10,14,3]\n",
    "compute_abs_difference(w)\n",
    "    \n",
    "    "
   ]
  },
  {
   "cell_type": "code",
   "execution_count": null,
   "id": "3019008e",
   "metadata": {},
   "outputs": [],
   "source": [
    "# Extract prime number from the list"
   ]
  },
  {
   "cell_type": "code",
   "execution_count": 41,
   "id": "7ade5d37",
   "metadata": {},
   "outputs": [
    {
     "name": "stdout",
     "output_type": "stream",
     "text": [
      "[7, 19, 23, 29, 73, 59]\n"
     ]
    }
   ],
   "source": [
    "def prime_chk(n):\n",
    "    c =0\n",
    "    for i in range(1,n+1):\n",
    "        if n%i==0:\n",
    "            c+=1\n",
    "    if c==2:\n",
    "        return True\n",
    "    else:\n",
    "        return False\n",
    "\n",
    "def extract_prime(prime_list):\n",
    "    primes =[]\n",
    "    for i in prime_list:\n",
    "        if prime_chk(i):\n",
    "            primes.append(i)\n",
    "    print(primes)\n",
    "w =[8,4,7,12,19,23,24,27,32,29,81,73,59]\n",
    "extract_prime(w)        \n",
    "        \n",
    "\n",
    "        "
   ]
  },
  {
   "cell_type": "code",
   "execution_count": 42,
   "id": "8d654e7b",
   "metadata": {},
   "outputs": [
    {
     "name": "stdout",
     "output_type": "stream",
     "text": [
      "[2, 3, 5, 7, 11, 13, 17, 19]\n"
     ]
    }
   ],
   "source": [
    "def prime_chk(n):\n",
    "    c =0\n",
    "    for i in range(1,n+1):\n",
    "        if n%i==0:\n",
    "            c+=1\n",
    "    if c==2:\n",
    "        return True\n",
    "    else:\n",
    "        return False\n",
    "res =[i for  i in range(2,20) if prime_chk(i)]\n",
    "print(res)"
   ]
  },
  {
   "cell_type": "code",
   "execution_count": null,
   "id": "a574e20f",
   "metadata": {},
   "outputs": [],
   "source": [
    "# Fibonacci series"
   ]
  },
  {
   "cell_type": "code",
   "execution_count": null,
   "id": "cc79ec8c",
   "metadata": {},
   "outputs": [],
   "source": [
    "def fib_series1(n):\n",
    "    f,s=0,1\n",
    "    fseries_sum =0\n",
    "    while (fseries_sum<=n):\n",
    "        print(fseries_sum,end =' ')\n",
    "        f =s\n",
    "        s=fseries_sum\n",
    "        fseries_sum =f+s\n",
    "fib_series1(10)"
   ]
  },
  {
   "cell_type": "code",
   "execution_count": null,
   "id": "2c73e3d0",
   "metadata": {},
   "outputs": [],
   "source": []
  },
  {
   "cell_type": "code",
   "execution_count": null,
   "id": "04397b16",
   "metadata": {},
   "outputs": [],
   "source": []
  }
 ],
 "metadata": {
  "kernelspec": {
   "display_name": "Python 3 (ipykernel)",
   "language": "python",
   "name": "python3"
  },
  "language_info": {
   "codemirror_mode": {
    "name": "ipython",
    "version": 3
   },
   "file_extension": ".py",
   "mimetype": "text/x-python",
   "name": "python",
   "nbconvert_exporter": "python",
   "pygments_lexer": "ipython3",
   "version": "3.11.3"
  }
 },
 "nbformat": 4,
 "nbformat_minor": 5
}
