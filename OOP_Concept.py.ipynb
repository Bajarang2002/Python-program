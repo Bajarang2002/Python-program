{
 "cells": [
  {
   "cell_type": "code",
   "execution_count": 8,
   "id": "9e67156c",
   "metadata": {},
   "outputs": [
    {
     "name": "stdout",
     "output_type": "stream",
     "text": [
      "21 Harsh 22 50000\n",
      "Pune IT\n",
      "22 Ram 25 70000\n",
      "Benglore Marketing\n"
     ]
    }
   ],
   "source": [
    "# Constructer\n",
    "class Emp:\n",
    "    def __init__(self,EmpId,Ename,Age,Salary,Location,Dept): # constructor\n",
    "        self.eid = EmpId        # instance variable\n",
    "        self.ename =Ename\n",
    "        self.age = Age\n",
    "        self.salary = Salary\n",
    "        self.location = Location\n",
    "        self.dept = Dept\n",
    "\n",
    "e1= Emp(21,'Harsh',22,50000,'Pune','IT')\n",
    "print(e1.eid,e1.ename,e1.age,e1.salary)\n",
    "print(e1.location,e1.dept)\n",
    "\n",
    "e2= Emp(22,'Ram',25,70000,'Benglore','Marketing')\n",
    "print(e2.eid,e2.ename,e2.age,e2.salary)\n",
    "print(e2.location,e2.dept)\n",
    "\n",
    "\n",
    "\n",
    "\n",
    "        "
   ]
  },
  {
   "cell_type": "code",
   "execution_count": 21,
   "id": "8a0f43c2",
   "metadata": {},
   "outputs": [
    {
     "name": "stdout",
     "output_type": "stream",
     "text": [
      "Bajarang Mumbai 2002-09-28\n",
      "{'name': 'Bajarang', 'city': 'Mumbai', 'dob': '2002-09-28', 'report': {}}\n",
      "<__main__.Student object at 0x000001501BEE1210>\n",
      "Bajarang is 22 yrs old as of 2024\n",
      "Enter the sub: python\n",
      "Enter the score: 88\n",
      "Bajarang is reported as {'python': 88} marks \n",
      "Enter the sub: sql\n",
      "Enter the score: 88\n",
      "Bajarang is reported as {'python': 88, 'sql': 88} marks \n",
      "Enter the sub: ml\n",
      "Enter the score: 96\n",
      "Bajarang is reported as {'python': 88, 'sql': 88, 'ml': 96} marks \n",
      "Enter the sub: stat\n",
      "Enter the score: 99\n",
      "Bajarang is reported as {'python': 88, 'sql': 88, 'ml': 96, 'stat': 99} marks \n",
      "Total_marks: 371\n",
      "Avg_score: 92.75\n"
     ]
    }
   ],
   "source": [
    "class Student:\n",
    "    def __init__(self,Name,City,Dob):\n",
    "        self.name = Name\n",
    "        self.city = City\n",
    "        self.dob = Dob\n",
    "        self.report = {}\n",
    "        \n",
    "    def compute_age(self,cur_year):\n",
    "        self.age = cur_year- int(self.dob[:4])\n",
    "        print(f'{self.name} is {self.age} yrs old as of {cur_year}')\n",
    "    \n",
    "    def gen_report(self,nsub):\n",
    "        for i in range(nsub):\n",
    "            sub = input(\"Enter the sub: \")\n",
    "            score = int(input(\"Enter the score: \"))\n",
    "            self.report[sub]= score\n",
    "            print(f'{self.name} is reported as {self.report} marks ')\n",
    "    \n",
    "    def stat_summary(self):\n",
    "        Total_score = sum(self.report.values())\n",
    "        Avg_score = sum(self.report.values())/len(self.report)\n",
    "        print('Total_marks:', Total_score)\n",
    "        print('Avg_score:',Avg_score)\n",
    "    \n",
    "\n",
    "s1= Student('Bajarang','Mumbai','2002-09-28')\n",
    "print(s1.name,s1.city,s1.dob)\n",
    "print(s1.__dict__)\n",
    "print(s1)\n",
    "s1.compute_age(2024)\n",
    "s1.gen_report(4)\n",
    "s1.stat_summary()\n"
   ]
  },
  {
   "cell_type": "code",
   "execution_count": 28,
   "id": "6c7139e0",
   "metadata": {},
   "outputs": [
    {
     "name": "stdout",
     "output_type": "stream",
     "text": [
      " Parent class method\n",
      "4\n",
      "Child class method\n",
      " Parent class method\n",
      "2\n"
     ]
    }
   ],
   "source": [
    "# Inheritance\n",
    "\n",
    "# single\n",
    "\n",
    "class P:\n",
    "    def m1(self,x):\n",
    "        self.x= x\n",
    "        print(\" Parent class method\")\n",
    "\n",
    "class C(P):\n",
    "    def m2(self):\n",
    "        print(\"Child class method\")\n",
    "        \n",
    "p1 = P()\n",
    "p1.m1(4)\n",
    "print(p1.x)\n",
    "\n",
    "\n",
    "c1 = C()\n",
    "c1.m2()\n",
    "c1.m1(2)\n",
    "print(c1.x)\n",
    "\n",
    "\n",
    "\n",
    "\n"
   ]
  },
  {
   "cell_type": "code",
   "execution_count": 29,
   "id": "c61b3f49",
   "metadata": {},
   "outputs": [
    {
     "name": "stdout",
     "output_type": "stream",
     "text": [
      "Parent class method\n",
      "Child class method\n",
      "Parent class method\n",
      "Grantchild class method:\n",
      "Child class method\n",
      "Parent class method\n"
     ]
    }
   ],
   "source": [
    "# Multiple inheritance\n",
    "\n",
    "class A:\n",
    "    def m1(self):\n",
    "        print(\"Parent class method\")\n",
    "\n",
    "class B(A):\n",
    "    def m2(self):\n",
    "        print(\"Child class method\")\n",
    "class C(B):\n",
    "    def m3(self):\n",
    "        print(\"Grantchild class method:\")\n",
    "        \n",
    "a1 =A()\n",
    "a1.m1()\n",
    "\n",
    "b1 =B()\n",
    "b1.m2()\n",
    "b1.m1()\n",
    "\n",
    "c1 = C()\n",
    "c1.m3()\n",
    "c1.m2()\n",
    "c1.m1()\n",
    "\n"
   ]
  },
  {
   "cell_type": "code",
   "execution_count": 5,
   "id": "b633f04a",
   "metadata": {},
   "outputs": [
    {
     "name": "stdout",
     "output_type": "stream",
     "text": [
      "Parent class constructor\n",
      "10\n",
      "20\n",
      "Parent class constructor\n",
      "Parent public variable 10\n",
      "Parent protected variable 20\n",
      "Can't access private variable\n"
     ]
    }
   ],
   "source": [
    "# Encapsulation\n",
    "\n",
    "class demoPclass:\n",
    "    def __init__(self):\n",
    "        self.a1 =10\n",
    "        self._a2=20\n",
    "        self.__a3=30\n",
    "        print(\"Parent class constructor\")\n",
    "class demoCclass(demoPclass):\n",
    "    def m1(self):\n",
    "        print(\"Parent public variable\",self.a1)\n",
    "        print(\"Parent protected variable\",self._a2)\n",
    "        try:\n",
    "            print(\"Parent private variable\",self.__a2)\n",
    "        except:\n",
    "            print(\"Can't access private variable\")\n",
    "        \n",
    "\n",
    "w1 = demoPclass()\n",
    "print(w1.a1)\n",
    "print(w1._a2)\n",
    "\n",
    "w2 = demoCclass()\n",
    "w2.m1()\n",
    "\n",
    "\n"
   ]
  },
  {
   "cell_type": "code",
   "execution_count": 8,
   "id": "89c4e092",
   "metadata": {},
   "outputs": [],
   "source": [
    "class demoPclass:\n",
    "    def m1():\n",
    "        pass\n",
    "    def _m2():\n",
    "        pass\n",
    "    def __m3():\n",
    "        pass\n",
    "\n",
    "    "
   ]
  },
  {
   "cell_type": "code",
   "execution_count": 19,
   "id": "0e5f1a40",
   "metadata": {},
   "outputs": [
    {
     "name": "stdout",
     "output_type": "stream",
     "text": [
      "Parent class method\n",
      "Ram is 22 yrs old\n"
     ]
    }
   ],
   "source": [
    "# Polymorphism\n",
    "\n",
    "class P:\n",
    "    def fun(self):\n",
    "        print(\"Parent class method\")\n",
    "\n",
    "class C(P):\n",
    "    def fun(self,name,age):\n",
    "        self.name = name\n",
    "        self.age = age\n",
    "        print(f'{self.name} is {self.age} yrs old')\n",
    "    \n",
    "p1 = P()\n",
    "p1.fun()\n",
    "\n",
    "c1 = C()\n",
    "c1.fun('Ram',22)\n",
    "        \n"
   ]
  },
  {
   "cell_type": "code",
   "execution_count": null,
   "id": "3e4423ed",
   "metadata": {},
   "outputs": [],
   "source": []
  },
  {
   "cell_type": "code",
   "execution_count": null,
   "id": "48f85675",
   "metadata": {},
   "outputs": [],
   "source": []
  },
  {
   "cell_type": "code",
   "execution_count": null,
   "id": "220d8a57",
   "metadata": {},
   "outputs": [],
   "source": []
  },
  {
   "cell_type": "code",
   "execution_count": null,
   "id": "60d53281",
   "metadata": {},
   "outputs": [],
   "source": []
  }
 ],
 "metadata": {
  "kernelspec": {
   "display_name": "Python 3 (ipykernel)",
   "language": "python",
   "name": "python3"
  },
  "language_info": {
   "codemirror_mode": {
    "name": "ipython",
    "version": 3
   },
   "file_extension": ".py",
   "mimetype": "text/x-python",
   "name": "python",
   "nbconvert_exporter": "python",
   "pygments_lexer": "ipython3",
   "version": "3.11.3"
  }
 },
 "nbformat": 4,
 "nbformat_minor": 5
}
