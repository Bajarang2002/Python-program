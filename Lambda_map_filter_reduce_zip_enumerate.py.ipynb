{
 "cells": [
  {
   "cell_type": "code",
   "execution_count": 1,
   "id": "ca2252fd",
   "metadata": {},
   "outputs": [
    {
     "name": "stdout",
     "output_type": "stream",
     "text": [
      "10\n",
      "None\n"
     ]
    }
   ],
   "source": [
    "# lamda\n",
    "# To write one line function\n",
    "\n",
    "#simple\n",
    "def sum2num(p,q):\n",
    "    print(p+q)\n",
    "a =sum2num(6,4)\n",
    "print(a)"
   ]
  },
  {
   "cell_type": "code",
   "execution_count": 2,
   "id": "c2705698",
   "metadata": {},
   "outputs": [
    {
     "name": "stdout",
     "output_type": "stream",
     "text": [
      "10\n"
     ]
    }
   ],
   "source": [
    "# Using lambda\n",
    "w = lambda p,q:p+q\n",
    "print(w(6,4))"
   ]
  },
  {
   "cell_type": "code",
   "execution_count": 3,
   "id": "5d2a65c3",
   "metadata": {},
   "outputs": [
    {
     "name": "stdout",
     "output_type": "stream",
     "text": [
      "[0, 5, 10, 15]\n"
     ]
    }
   ],
   "source": [
    "w1 = lambda x,y:[i*x for i in range(y)]\n",
    "print(w1(5,4))"
   ]
  },
  {
   "cell_type": "code",
   "execution_count": 8,
   "id": "b4dd0b66",
   "metadata": {},
   "outputs": [
    {
     "name": "stdout",
     "output_type": "stream",
     "text": [
      "m_l\n",
      "RP\n"
     ]
    }
   ],
   "source": [
    "# Return first name and last name last letter by concatinating '-'\n",
    "w2 = lambda fn,ln : fn[-1]+'_'+ln[-1]\n",
    "print(w2('Ram','Patil'))\n",
    "# Initialize from first letter\n",
    "w3 = lambda fn,ln :fn[0]+ln[0]\n",
    "print(w3('Ram','Patil'))"
   ]
  },
  {
   "cell_type": "code",
   "execution_count": 11,
   "id": "2eb8ed4b",
   "metadata": {},
   "outputs": [
    {
     "name": "stdout",
     "output_type": "stream",
     "text": [
      "13\n"
     ]
    }
   ],
   "source": [
    "# lambda fun using if-else\n",
    "\n",
    "w4 = lambda a,b:(a*b)-2 if (a+b)%2==0 else (b-a)*a\n",
    "print(w4(5,3))"
   ]
  },
  {
   "cell_type": "code",
   "execution_count": 16,
   "id": "66e50c20",
   "metadata": {},
   "outputs": [
    {
     "name": "stdout",
     "output_type": "stream",
     "text": [
      "[5, 7, 10, 13, 14, 15, 16, 20]\n",
      "[5, 7, 10, 13, 14, 15, 16, 20]\n",
      "[5, 7, 10, 13, 14, 15, 16, 20]\n"
     ]
    }
   ],
   "source": [
    "# map\n",
    "\n",
    "r = [10,12,15,18,19,20,21,25]\n",
    "def sub5(x):\n",
    "    return x-5\n",
    "a1= list(map(sub5,r))\n",
    "print(a)\n",
    "\n",
    "a2 = list(map(lambda x:x-5,r))\n",
    "print(a2)\\\n",
    "\n",
    "res =[]\n",
    "for i in r:\n",
    "    res.append(i-5)\n",
    "print(res)"
   ]
  },
  {
   "cell_type": "code",
   "execution_count": 3,
   "id": "054a7a29",
   "metadata": {},
   "outputs": [
    {
     "name": "stdout",
     "output_type": "stream",
     "text": [
      "['a1_keys', 'a2_keys', 'a3_keys', 'a5_keys', 'a6_keys']\n",
      "[5, 8, 9, 10, 13]\n",
      "[('a1_keys', 100), ('a2_keys', 130), ('a3_keys', 140), ('a5_keys', 150), ('a6_keys', 180)]\n"
     ]
    }
   ],
   "source": [
    "# map using dict\n",
    "d ={'a1':10,'a2':13,'a3':14,'a5':15,'a6':18}\n",
    "\n",
    "m1 =list(map(lambda x: x+'_keys',d.keys()))\n",
    "print(m1)\n",
    "m2 = list(map(lambda x: x-5,d.values()))\n",
    "print(m2)\n",
    "m3 = list(map(lambda x:(x[0]+'_keys',x[1]*10),d.items()))\n",
    "print(m3)"
   ]
  },
  {
   "cell_type": "code",
   "execution_count": null,
   "id": "b312c814",
   "metadata": {},
   "outputs": [],
   "source": [
    "# filter"
   ]
  },
  {
   "cell_type": "code",
   "execution_count": 4,
   "id": "dc745a68",
   "metadata": {},
   "outputs": [
    {
     "name": "stdout",
     "output_type": "stream",
     "text": [
      "[10, 12, 18, 20]\n"
     ]
    }
   ],
   "source": [
    "r = [10,12,15,18,19,20,21,25]\n",
    "def select_even(x):\n",
    "    return x%2==0\n",
    "a1 = list(filter(select_even,r))\n",
    "print(a1)"
   ]
  },
  {
   "cell_type": "code",
   "execution_count": 5,
   "id": "bea3d145",
   "metadata": {},
   "outputs": [
    {
     "name": "stdout",
     "output_type": "stream",
     "text": [
      "[10, 12, 18, 20]\n"
     ]
    }
   ],
   "source": [
    "a2 = list(filter(lambda x:x%2==0,r))\n",
    "print(a2)"
   ]
  },
  {
   "cell_type": "code",
   "execution_count": 9,
   "id": "e81110fd",
   "metadata": {},
   "outputs": [
    {
     "name": "stdout",
     "output_type": "stream",
     "text": [
      "['ajanak', 'ass']\n",
      "[15, 18]\n",
      "[('shsdb', 10), ('ajanak', 14), ('asssa', 18)]\n"
     ]
    }
   ],
   "source": [
    "# filter using dict\n",
    "\n",
    "d ={'shsdb':10,'dhas':13,'ajanak':14,'ass':15,'asssa':18}\n",
    "\n",
    "n1 = list(filter(lambda x:len(x)%3==0,d.keys()))\n",
    "print(n1)\n",
    "n2 = list(filter(lambda x: x>14,d.values()))\n",
    "print(n2)\n",
    "n3 =list(filter(lambda x: x[1]%2==0,d.items()))\n",
    "print(n3)\n"
   ]
  },
  {
   "cell_type": "code",
   "execution_count": 11,
   "id": "f0991bcd",
   "metadata": {},
   "outputs": [],
   "source": [
    "from functools import reduce"
   ]
  },
  {
   "cell_type": "code",
   "execution_count": 16,
   "id": "7bf6afe1",
   "metadata": {},
   "outputs": [
    {
     "name": "stdout",
     "output_type": "stream",
     "text": [
      "27\n",
      "37\n"
     ]
    }
   ],
   "source": [
    "f =[2,3,4,5,6,7]\n",
    "a1 = reduce(lambda x,y:x+y,f)\n",
    "print(a1)\n",
    "a2= reduce(lambda x,y:x+y,f,10)\n",
    "print(a2)"
   ]
  },
  {
   "cell_type": "code",
   "execution_count": 17,
   "id": "42a2bd60",
   "metadata": {},
   "outputs": [
    {
     "name": "stdout",
     "output_type": "stream",
     "text": [
      "[('a1', 5), ('a2', 4), ('a3', 3), ('a4', 2), ('a5', 4), ('a6', 6)]\n",
      "(('a1', 5), ('a2', 4), ('a3', 3), ('a4', 2), ('a5', 4), ('a6', 6))\n",
      "{'a1': 5, 'a2': 4, 'a3': 3, 'a4': 2, 'a5': 4, 'a6': 6}\n"
     ]
    }
   ],
   "source": [
    "# zip\n",
    "\n",
    "k1=['a1','a2','a3','a4','a5','a6']\n",
    "k2 =[5,4,3,2,4,6]\n",
    "\n",
    "p1=list(zip(k1,k2))\n",
    "p2=tuple(zip(k1,k2))\n",
    "p3=dict(zip(k1,k2))\n",
    "print(p1)\n",
    "print(p2)\n",
    "print(p3)\n"
   ]
  },
  {
   "cell_type": "code",
   "execution_count": 20,
   "id": "bf1c4831",
   "metadata": {},
   "outputs": [
    {
     "name": "stdout",
     "output_type": "stream",
     "text": [
      "0 10\n",
      "1 12\n",
      "2 15\n",
      "3 18\n",
      "4 19\n",
      "5 20\n",
      "6 21\n",
      "7 25\n"
     ]
    }
   ],
   "source": [
    "# enumerate\n",
    "r = [10,12,15,18,19,20,21,25]\n",
    "for i,j in enumerate(r):\n",
    "    print(i,j)"
   ]
  },
  {
   "cell_type": "code",
   "execution_count": 21,
   "id": "db3c31d0",
   "metadata": {},
   "outputs": [
    {
     "name": "stdout",
     "output_type": "stream",
     "text": [
      "3 10\n",
      "4 12\n",
      "5 15\n",
      "6 18\n",
      "7 19\n",
      "8 20\n",
      "9 21\n",
      "10 25\n"
     ]
    }
   ],
   "source": [
    "r = [10,12,15,18,19,20,21,25]\n",
    "for i,j in enumerate(r,start=3):\n",
    "    print(i,j)"
   ]
  },
  {
   "cell_type": "code",
   "execution_count": 25,
   "id": "288132c8",
   "metadata": {},
   "outputs": [
    {
     "name": "stdout",
     "output_type": "stream",
     "text": [
      "0 name Harsh\n",
      "1 age 21\n",
      "2 salary 1000000\n"
     ]
    }
   ],
   "source": [
    "d = {'name':'Harsh','age':21,'salary':1000000}\n",
    "for i,j in enumerate(d.items()):\n",
    "    print(i,j[0],j[1])"
   ]
  },
  {
   "cell_type": "code",
   "execution_count": 28,
   "id": "a5827230",
   "metadata": {},
   "outputs": [
    {
     "name": "stdout",
     "output_type": "stream",
     "text": [
      "1\n",
      "2\n"
     ]
    }
   ],
   "source": [
    "# Find the index (starting from 0) in the dict where keys are multiple of 3\n",
    "d = {'name':'Harsh','age':21,'salary':100000,'dept':'IT'}\n",
    "for i,j in enumerate(d.items()):\n",
    "    if len(j[0])%3==0:\n",
    "        print(i)\n"
   ]
  },
  {
   "cell_type": "code",
   "execution_count": null,
   "id": "19fe64e6",
   "metadata": {},
   "outputs": [],
   "source": []
  },
  {
   "cell_type": "code",
   "execution_count": null,
   "id": "2940b78f",
   "metadata": {},
   "outputs": [],
   "source": []
  },
  {
   "cell_type": "code",
   "execution_count": null,
   "id": "49cc3fe9",
   "metadata": {},
   "outputs": [],
   "source": []
  },
  {
   "cell_type": "code",
   "execution_count": null,
   "id": "7c0f8f20",
   "metadata": {},
   "outputs": [],
   "source": []
  }
 ],
 "metadata": {
  "kernelspec": {
   "display_name": "Python 3 (ipykernel)",
   "language": "python",
   "name": "python3"
  },
  "language_info": {
   "codemirror_mode": {
    "name": "ipython",
    "version": 3
   },
   "file_extension": ".py",
   "mimetype": "text/x-python",
   "name": "python",
   "nbconvert_exporter": "python",
   "pygments_lexer": "ipython3",
   "version": "3.11.3"
  }
 },
 "nbformat": 4,
 "nbformat_minor": 5
}
